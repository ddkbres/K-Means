{
 "cells": [
  {
   "cell_type": "code",
   "execution_count": null,
   "id": "093844bd",
   "metadata": {},
   "outputs": [],
   "source": [
    "#import codecademylib3_seaborn\n",
    "import matplotlib.pyplot as plt\n",
    "import numpy as np\n",
    "import pandas as pd\n",
    "from sklearn import datasets\n",
    "from sklearn.cluster import KMeans\n",
    "\n",
    "iris = datasets.load_iris()\n",
    "\n",
    "samples = iris.data\n",
    "\n",
    "# Code Start here:\n",
    "\n",
    "num_clusters = list(range(1, 9))\n",
    "inertias = []\n",
    "\n",
    "for k in num_clusters:\n",
    "  model = KMeans(n_clusters=k)\n",
    "  model.fit(samples)\n",
    "  inertias.append(model.inertia_)\n",
    "  \n",
    "plt.plot(num_clusters, inertias, '-o')\n",
    "\n",
    "plt.xlabel('number of clusters (k)')\n",
    "plt.ylabel('inertia')\n",
    "\n",
    "plt.show()"
   ]
  }
 ],
 "metadata": {
  "kernelspec": {
   "display_name": "Python 3",
   "language": "python",
   "name": "python3"
  },
  "language_info": {
   "codemirror_mode": {
    "name": "ipython",
    "version": 3
   },
   "file_extension": ".py",
   "mimetype": "text/x-python",
   "name": "python",
   "nbconvert_exporter": "python",
   "pygments_lexer": "ipython3",
   "version": "3.8.8"
  }
 },
 "nbformat": 4,
 "nbformat_minor": 5
}
