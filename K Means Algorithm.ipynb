{
 "cells": [
  {
   "cell_type": "code",
   "execution_count": 2,
   "id": "9eade5f2",
   "metadata": {},
   "outputs": [
    {
     "data": {
      "image/png": "[encoded data removed]",
      "text/plain": [
       "<Figure size 432x288 with 1 Axes>"
      ]
     },
     "metadata": {
      "needs_background": "light"
     },
     "output_type": "display_data"
    }
   ],
   "source": [
    "#import codecademylib3_seaborn\n",
    "import matplotlib.pyplot as plt\n",
    "import numpy as np\n",
    "from sklearn import datasets\n",
    "from copy import deepcopy\n",
    "\n",
    "iris = datasets.load_iris()\n",
    "\n",
    "samples = iris.data\n",
    "\n",
    "x = samples[:,0]\n",
    "y = samples[:,1]\n",
    "\n",
    "sepal_length_width = np.array(list(zip(x, y)))\n",
    "\n",
    "# Step 1: Place K random centroids\n",
    "\n",
    "k = 3\n",
    "\n",
    "centroids_x = np.random.uniform(min(x), max(x), size=k)\n",
    "centroids_y = np.random.uniform(min(y), max(y), size=k)\n",
    "\n",
    "centroids = np.array(list(zip(centroids_x, centroids_y)))\n",
    "\n",
    "def distance(a, b):\n",
    "  one = (a[0] - b[0]) ** 2\n",
    "  two = (a[1] - b[1]) ** 2\n",
    "  distance = (one + two) ** 0.5\n",
    "  return distance\n",
    "\n",
    "# To store the value of centroids when it updates\n",
    "centroids_old = np.zeros(centroids.shape)\n",
    "\n",
    "# Cluster labeles (either 0, 1, or 2)\n",
    "labels = np.zeros(len(samples))\n",
    "\n",
    "distances = np.zeros(3)\n",
    "\n",
    "# Initialize error:\n",
    "error = np.zeros(3)\n",
    "\n",
    "error[0] = distance(centroids[0], centroids_old[0])\n",
    "error[1] = distance(centroids[1], centroids_old[1])\n",
    "error[2] = distance(centroids[2], centroids_old[2])\n",
    "\n",
    "# Repeat Steps 2 and 3 until convergence:\n",
    "\n",
    "while error.all() != 0:\n",
    "\n",
    "  # Step 2: Assign samples to nearest centroid\n",
    "\n",
    "  for i in range(len(samples)):\n",
    "    distances[0] = distance(sepal_length_width[i], centroids[0])\n",
    "    distances[1] = distance(sepal_length_width[i], centroids[1])\n",
    "    distances[2] = distance(sepal_length_width[i], centroids[2])\n",
    "    cluster = np.argmin(distances)\n",
    "    labels[i] = cluster\n",
    "\n",
    "  # Step 3: Update centroids\n",
    "\n",
    "  centroids_old = deepcopy(centroids)\n",
    "\n",
    "  for i in range(3):\n",
    "    points = [sepal_length_width[j] for j in range(len(sepal_length_width)) if labels[j] == i]\n",
    "    centroids[i] = np.mean(points, axis=0)\n",
    "\n",
    "  error[0] = distance(centroids[0], centroids_old[0])\n",
    "  error[1] = distance(centroids[1],   centroids_old[1])\n",
    "  error[2] = distance(centroids[2], centroids_old[2])\n",
    "\n",
    "colors = ['r', 'g', 'b']\n",
    "\n",
    "for i in range(k):\n",
    "  points = np.array([sepal_length_width[j] for j in range(len(samples)) if labels[j] == i])\n",
    "  plt.scatter(points[:, 0], points[:, 1], c=colors[i], alpha=0.5)\n",
    "\n",
    "plt.scatter(centroids[:, 0], centroids[:, 1], marker='D', s=150)\n",
    "\n",
    "plt.xlabel('sepal length (cm)')\n",
    "plt.ylabel('sepal width (cm)')\n",
    "\n",
    "plt.show()\n"
   ]
  },
  {
   "cell_type": "code",
   "execution_count": null,
   "id": "688aea0c",
   "metadata": {},
   "outputs": [],
   "source": []
  }
 ],
 "metadata": {
  "kernelspec": {
   "display_name": "Python 3",
   "language": "python",
   "name": "python3"
  },
  "language_info": {
   "codemirror_mode": {
    "name": "ipython",
    "version": 3
   },
   "file_extension": ".py",
   "mimetype": "text/x-python",
   "name": "python",
   "nbconvert_exporter": "python",
   "pygments_lexer": "ipython3",
   "version": "3.8.8"
  }
 },
 "nbformat": 4,
 "nbformat_minor": 5
}
