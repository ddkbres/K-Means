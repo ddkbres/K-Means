{
 "cells": [
  {
   "cell_type": "code",
   "execution_count": 1,
   "id": "c98ab426",
   "metadata": {},
   "outputs": [
    {
     "name": "stdout",
     "output_type": "stream",
     "text": [
      "species  b'setosa'  b'veriscolor'  b'virginica'\n",
      "labels                                         \n",
      "0                0              2            36\n",
      "1               50              0             0\n",
      "2                0             48            14\n"
     ]
    }
   ],
   "source": [
    "#import codecademylib3_seaborn\n",
    "import matplotlib.pyplot as plt\n",
    "import numpy as np\n",
    "from sklearn import datasets\n",
    "from sklearn.cluster import KMeans\n",
    "import pandas as pd\n",
    "\n",
    "iris = datasets.load_iris()\n",
    "\n",
    "samples = iris.data\n",
    "\n",
    "target = iris.target\n",
    "\n",
    "model = KMeans(n_clusters=3)\n",
    "\n",
    "model.fit(samples)\n",
    "\n",
    "labels = model.predict(samples)\n",
    "\n",
    "# Code starts here:\n",
    "\n",
    "species = np.chararray(target.shape, itemsize=150)\n",
    "\n",
    "for i in range(len(samples)):\n",
    "  if target[i] == 0:\n",
    "    species[i] = 'setosa'\n",
    "  elif target[i] == 1:\n",
    "    species[i] = 'veriscolor'\n",
    "  elif target[i] == 2: \n",
    "    species[i] = 'virginica'\n",
    "\n",
    "df = pd.DataFrame({'labels': labels, 'species': species})\n",
    "\n",
    "ct = pd.crosstab(df['labels'], df['species'])\n",
    "\n",
    "print(ct)"
   ]
  },
  {
   "cell_type": "code",
   "execution_count": null,
   "id": "dbd81518",
   "metadata": {},
   "outputs": [],
   "source": []
  }
 ],
 "metadata": {
  "kernelspec": {
   "display_name": "Python 3",
   "language": "python",
   "name": "python3"
  },
  "language_info": {
   "codemirror_mode": {
    "name": "ipython",
    "version": 3
   },
   "file_extension": ".py",
   "mimetype": "text/x-python",
   "name": "python",
   "nbconvert_exporter": "python",
   "pygments_lexer": "ipython3",
   "version": "3.8.8"
  }
 },
 "nbformat": 4,
 "nbformat_minor": 5
}
